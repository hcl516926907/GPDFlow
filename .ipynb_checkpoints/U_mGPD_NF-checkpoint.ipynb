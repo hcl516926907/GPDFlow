{
 "cells": [
  {
   "cell_type": "code",
   "execution_count": 1,
   "id": "1ba15cfe",
   "metadata": {},
   "outputs": [
    {
     "name": "stdout",
     "output_type": "stream",
     "text": [
      "Using device: cuda\n"
     ]
    }
   ],
   "source": [
    "import numpy as np\n",
    "import matplotlib.pyplot as plt\n",
    "import torch\n",
    "import pyro.distributions as dist\n",
    "import pyro.optim\n",
    "from pyro.nn import AutoRegressiveNN\n",
    "from pyro.distributions import TransformedDistribution\n",
    "from pyro.distributions.transforms import AffineAutoregressive, ComposeTransform\n",
    "\n",
    "device = torch.device(\"cuda\" if torch.cuda.is_available() else \"cpu\")\n",
    "print(f\"Using device: {device}\")"
   ]
  },
  {
   "cell_type": "code",
   "execution_count": 2,
   "id": "19bdddc8",
   "metadata": {},
   "outputs": [],
   "source": [
    "def sim_revexp_u_mgpd(n, d, a, beta, sig, gamma, MGPD=True, std=False):\n",
    "    lam = np.exp(beta)\n",
    "    Y = np.zeros((n, d))\n",
    "    C = 1 / np.min(lam)\n",
    "    k = 0\n",
    "\n",
    "    while k < n:\n",
    "        U = np.random.uniform(0, 1, d)\n",
    "        W = (U ** a) / lam\n",
    "        R = np.random.uniform(0, C)\n",
    "        Ind = R < np.max(W)\n",
    "        \n",
    "        if Ind:\n",
    "            Y[k, :] = W / R\n",
    "            k += 1\n",
    "\n",
    "    if std and not MGPD:\n",
    "        return np.log(Y)\n",
    "\n",
    "    X = []\n",
    "    for j in range(d):\n",
    "        if gamma[j] != 0:\n",
    "            X.append(sig[j] * (Y[:, j] ** gamma[j] - 1) / gamma[j])\n",
    "        else:\n",
    "            X.append(sig[j] * np.log(Y[:, j]))\n",
    "    X = np.column_stack(X)\n",
    "\n",
    "    if MGPD and not std:\n",
    "        return X\n",
    "    if std and MGPD:\n",
    "        return {'X': X, 'Z': np.log(Y)}"
   ]
  },
  {
   "cell_type": "code",
   "execution_count": 3,
   "id": "c2e2a678",
   "metadata": {},
   "outputs": [
    {
     "data": {
      "image/png": "[encoded data removed]",
      "text/plain": [
       "<Figure size 432x288 with 1 Axes>"
      ]
     },
     "metadata": {
      "needs_background": "light"
     },
     "output_type": "display_data"
    }
   ],
   "source": [
    "n_samples = 10000\n",
    "d = 2\n",
    "a = np.array([1, 5])\n",
    "beta = np.array([0, 0])\n",
    "sig = np.array([1.0, 1])\n",
    "gamma = np.array([0, 0])\n",
    "\n",
    "samples = sim_revexp_u_mgpd(n_samples, d, a, beta, sig, gamma)\n",
    "\n",
    "# Visualize the samples\n",
    "plt.scatter(samples[:, 0], samples[:, 1], alpha=0.5)\n",
    "plt.xlabel('Dimension 1')\n",
    "plt.ylabel('Dimension 2')\n",
    "plt.title('Scatter plot of 1000 samples from the MGPD')\n",
    "# plt.xlim([-5, 10]) \n",
    "# plt.ylim([-5,10])\n",
    "plt.grid(True)\n",
    "plt.show()"
   ]
  },
  {
   "cell_type": "code",
   "execution_count": 4,
   "id": "09287042",
   "metadata": {},
   "outputs": [
    {
     "name": "stdout",
     "output_type": "stream",
     "text": [
      "E[exp(max(U))] ≈ 2.179234266281128\n"
     ]
    }
   ],
   "source": [
    "dim = 2\n",
    "base_dist = dist.MultivariateNormal(torch.zeros(dim,device=device), torch.eye(dim,device=device))\n",
    "\n",
    "# Define the number of flow steps\n",
    "num_flows = 5\n",
    "\n",
    "# Define the flows\n",
    "flows = []\n",
    "for _ in range(num_flows):\n",
    "    # Define an autoregressive neural network\n",
    "    arn = AutoRegressiveNN(dim, [50,50]).to(device) \n",
    "    # Define the affine autoregressive flow\n",
    "    flow = AffineAutoregressive(arn).to(device) \n",
    "    flows.append(flow)\n",
    "\n",
    "# Wrap flows in an nn.ModuleList and define the model\n",
    "class NormalizingFlowModel(torch.nn.Module):\n",
    "    def __init__(self, base_dist, transforms):\n",
    "        super(NormalizingFlowModel, self).__init__()\n",
    "        self.base_dist = base_dist\n",
    "        self.transforms = torch.nn.ModuleList(transforms)\n",
    "        self.transform = ComposeTransform(self.transforms)\n",
    "        self.flow_dist = dist.TransformedDistribution(self.base_dist, self.transform)\n",
    "    \n",
    "    def log_prob(self, x):\n",
    "        return self.flow_dist.log_prob(x)\n",
    "    \n",
    "    def forward(self, x):\n",
    "        return self.flow_dist.log_prob(x)\n",
    "    \n",
    "    def sample(self, sample_shape=torch.Size()):\n",
    "        return self.flow_dist.sample(sample_shape)\n",
    "\n",
    "\n",
    "def log_mean_exp(x, dim=0):\n",
    "    \"\"\"\n",
    "    Computes log( mean( exp(x), dim ) ) in a numerically stable way.\n",
    "    \n",
    "    Args:\n",
    "        x:   A PyTorch tensor.\n",
    "        dim: The dimension along which to average.\n",
    "    Returns:\n",
    "        A tensor of shape x reduced along `dim`.\n",
    "    \"\"\"\n",
    "    # 1) Find max along `dim`\n",
    "    x_max, _ = torch.max(x, dim=dim, keepdim=True)\n",
    "\n",
    "    # 2) Shift and exponentiate\n",
    "    shifted_exp = torch.exp(x - x_max)\n",
    "\n",
    "    # 3) Average, then take log\n",
    "    mean_shifted_exp = torch.mean(shifted_exp, dim=dim, keepdim=True)\n",
    "    log_mean_shifted_exp = torch.log(mean_shifted_exp)\n",
    "\n",
    "    # 4) Add the max back\n",
    "    out = x_max + log_mean_shifted_exp\n",
    "\n",
    "    # 5) Squeeze back down if needed\n",
    "    return out.squeeze(dim)\n",
    "\n",
    "# Define the transformed distribution\n",
    "f_U_model = NormalizingFlowModel(base_dist, flows).to(device)\n",
    "\n",
    "num_U_samples = 100000\n",
    "U_samples = f_U_model.sample((num_U_samples,))\n",
    "max_U = torch.max(U_samples, dim=1)[0]\n",
    "E_exp_max_U = torch.mean(torch.exp(max_U)).item()\n",
    "print(f\"E[exp(max(U))] ≈ {E_exp_max_U}\")"
   ]
  },
  {
   "cell_type": "code",
   "execution_count": 5,
   "id": "f3ba3218",
   "metadata": {},
   "outputs": [],
   "source": [
    "data = torch.tensor(samples, dtype=torch.float, device=device)\n"
   ]
  },
  {
   "cell_type": "code",
   "execution_count": 6,
   "id": "0c8201c5",
   "metadata": {},
   "outputs": [
    {
     "name": "stdout",
     "output_type": "stream",
     "text": [
      "Iteration 0, Loss: 6.425981044769287\n",
      "Epoch 0 - Learning Rate: 0.0005\n"
     ]
    },
    {
     "ename": "NameError",
     "evalue": "name 'f_T_model' is not defined",
     "output_type": "error",
     "traceback": [
      "\u001b[0;31m---------------------------------------------------------------------------\u001b[0m",
      "\u001b[0;31mNameError\u001b[0m                                 Traceback (most recent call last)",
      "\u001b[0;32m/tmp/ipykernel_3031861/16727851.py\u001b[0m in \u001b[0;36m<module>\u001b[0;34m\u001b[0m\n\u001b[1;32m    105\u001b[0m \u001b[0;34m\u001b[0m\u001b[0m\n\u001b[1;32m    106\u001b[0m     \u001b[0;32mif\u001b[0m \u001b[0mit\u001b[0m \u001b[0;34m%\u001b[0m \u001b[0mshow_iter\u001b[0m \u001b[0;34m==\u001b[0m \u001b[0;36m0\u001b[0m\u001b[0;34m:\u001b[0m\u001b[0;34m\u001b[0m\u001b[0;34m\u001b[0m\u001b[0m\n\u001b[0;32m--> 107\u001b[0;31m         \u001b[0msamples\u001b[0m \u001b[0;34m=\u001b[0m \u001b[0mf_T_model\u001b[0m\u001b[0;34m.\u001b[0m\u001b[0msample\u001b[0m\u001b[0;34m(\u001b[0m\u001b[0;34m(\u001b[0m\u001b[0mn_samples\u001b[0m\u001b[0;34m,\u001b[0m\u001b[0;34m)\u001b[0m\u001b[0;34m)\u001b[0m\u001b[0;34m\u001b[0m\u001b[0;34m\u001b[0m\u001b[0m\n\u001b[0m\u001b[1;32m    108\u001b[0m \u001b[0;34m\u001b[0m\u001b[0m\n\u001b[1;32m    109\u001b[0m         \u001b[0mplt\u001b[0m\u001b[0;34m.\u001b[0m\u001b[0mfigure\u001b[0m\u001b[0;34m(\u001b[0m\u001b[0mfigsize\u001b[0m\u001b[0;34m=\u001b[0m\u001b[0;34m(\u001b[0m\u001b[0;36m8\u001b[0m\u001b[0;34m,\u001b[0m\u001b[0;36m8\u001b[0m\u001b[0;34m)\u001b[0m\u001b[0;34m)\u001b[0m\u001b[0;34m\u001b[0m\u001b[0;34m\u001b[0m\u001b[0m\n",
      "\u001b[0;31mNameError\u001b[0m: name 'f_T_model' is not defined"
     ]
    }
   ],
   "source": [
    "optimizer = torch.optim.Adam(f_U_model.parameters(),  lr=5e-4,weight_decay=1e-5)\n",
    "batch_size = 256\n",
    "num_iterations = 2000\n",
    "num_U_samples = 1000000\n",
    "loss_history = []\n",
    "show_iter = 100\n",
    "\n",
    "# scheduler = torch.optim.lr_scheduler.StepLR(optimizer, step_size=200, gamma=0.9)\n",
    "scheduler = torch.optim.lr_scheduler.CosineAnnealingLR(optimizer, num_iterations)\n",
    "\n",
    "# Integration settings\n",
    "s_min = -10.0\n",
    "s_max = 10.0\n",
    "num_integration_points = 10000\n",
    "s_values = torch.linspace(s_min, s_max, num_integration_points,device=device)  # Shape (num_points, 1, 1)\n",
    "s_values = s_values.reshape(-1, 1, 1)\n",
    "\n",
    "for it in range(num_iterations):\n",
    "    # Sample a batch of data from h_U\n",
    "    idx = np.random.choice(data.shape[0], batch_size, replace=False)\n",
    "    batch_x = data[idx]  # Shape (batch_size, dim)\n",
    "    \n",
    "    # Expand batch_x to match s_values\n",
    "    x_expanded = batch_x.unsqueeze(0)  # Shape (1, effective_batch_size, dim)\n",
    "    x_expanded = x_expanded.expand(num_integration_points, -1, -1)  # Shape (num_points, effective_batch_size, dim)\n",
    "    \n",
    "    # Expand s_values to match batch size and dimension\n",
    "    s_expanded = s_values.to(batch_x.device)  # Shape (num_points, 1, 1)\n",
    "\n",
    "    s_expanded = s_expanded.expand(-1, batch_size, 1)  # Shape (num_points, effective_batch_size, 1)\n",
    "\n",
    "    # Compute x + s for all s_values\n",
    "    x_plus_s = x_expanded + s_expanded  # Broadcasting over the last dimension\n",
    "    # x_plus_s shape: (num_points, effective_batch_size, dim)\n",
    "    x_plus_s = x_plus_s.reshape(-1, dim)  # Flatten to (num_points * effective_batch_size, dim)\n",
    "\n",
    "    # Compute f_U(x + s)\n",
    "    log_f_U = f_U_model.log_prob(x_plus_s)  # Shape (num_points * effective_batch_size,)\n",
    "    \n",
    "    # Corrected reshaping using the effective batch size\n",
    "#     f_U_x_s = torch.exp(log_f_U).reshape(num_integration_points, batch_size)  # Shape (num_points, effective_batch_size)\n",
    "    \n",
    "    #####################################################################################\n",
    "#     # Compute the integrand f_U(x + s) * exp(s)\n",
    "#     exp_s = torch.exp(s_values.squeeze(-1)).to(batch_x.device)  # Shape (num_points, 1)\n",
    "#     integrand = f_U_x_s * exp_s  # Broadcasting over effective_batch_size\n",
    "    \n",
    "#     # Compute the integral using the trapezoidal rule\n",
    "#     delta_s = (s_max - s_min) / (num_integration_points - 1)\n",
    "#     integral = torch.trapz(integrand, dx=delta_s, dim=0)  # Shape (effective_batch_size,)\n",
    "    #######################################################################################\n",
    "    # log_integrand.shape = (num_points, batch_size)\n",
    "    # Each element is [log f_U(x+s) + s]\n",
    "    log_integrand = log_f_U.reshape(num_integration_points, batch_size) + s_values.reshape(num_integration_points,1)\n",
    "    # We want to numerically approximate log( ∫ exp(log_integrand) ds ).\n",
    "    # The trapezoid rule in log-space can be approximated by log-sum-exp:\n",
    "\n",
    "    # 1. log-sum-exp over 'num_points' dimension\n",
    "    max_vals, _ = torch.max(log_integrand, dim=0, keepdim=True)  # shape (1, batch_size)\n",
    "    stable_exp = torch.exp(log_integrand - max_vals)             # shape (num_points, batch_size)\n",
    "    delta_s = (s_max - s_min) / (num_integration_points - 1)\n",
    "    sum_exp = torch.trapz(stable_exp, dx=delta_s, dim=0)         # shape (batch_size,)\n",
    "    # 2. Now put the max_vals back in:\n",
    "    log_integral = max_vals.squeeze(0) + torch.log(sum_exp + 1e-40)  # shape (batch_size,)\n",
    "#     print(log_integral.shape)\n",
    "    ########################################################################################\n",
    "    U_samples = f_U_model.sample((num_U_samples,)).to(device)\n",
    "    max_U = torch.max(U_samples, dim=1)[0]\n",
    "    \n",
    "    log_E_exp_max_U = log_mean_exp(max_U, dim=0)\n",
    "    \n",
    "    ########################################################################################\n",
    "#     # Compute h_U(x)\n",
    "#     h_U_x = (1 / E_exp_max_U) * integral\n",
    "    \n",
    "#     # Avoid log of zero\n",
    "#     h_U_x = torch.clamp(h_U_x, min=1e-12)\n",
    "#     # Compute the negative log-likelihood loss\n",
    "#     loss = -torch.log(h_U_x)\n",
    "    ########################################################################################\n",
    "    loss = -log_integral + log_E_exp_max_U\n",
    "    \n",
    "    ########################################################################################\n",
    "\n",
    "\n",
    "    batch_loss = loss.mean()\n",
    "    \n",
    "    # Backpropagation\n",
    "    optimizer.zero_grad()\n",
    "    batch_loss.backward()\n",
    "    for name, param in f_U_model.named_parameters():\n",
    "        if param.grad is None:\n",
    "            print(name, \"grad is None\")\n",
    "    optimizer.step()\n",
    "    \n",
    "    # Record loss\n",
    "    loss_history.append(batch_loss.item())\n",
    "    \n",
    "    if it % 100 == 0:\n",
    "        print(f\"Iteration {it}, Loss: {batch_loss.item()}\")\n",
    "        current_lr = optimizer.param_groups[0]['lr']\n",
    "    \n",
    "        print(f\"Epoch {it} - Learning Rate: {current_lr}\")\n",
    "        # Debugging: Print shapes\n",
    "        \n",
    "    if it % show_iter == 0:\n",
    "        samples = f_U_model.sample((n_samples,))\n",
    "\n",
    "        plt.figure(figsize=(8,8))\n",
    "        plt.scatter(samples[:,0].cpu().numpy(), samples[:,1].cpu().numpy(), alpha=0.5, color='red')\n",
    "        plt.title('Samples from Normalizing Flow')\n",
    "        plt.show()\n",
    "\n",
    "#     scheduler.step()\n",
    "    \n",
    "# Plot the training loss\n",
    "plt.figure()\n",
    "plt.plot(loss_history)\n",
    "plt.title('Training Loss')\n",
    "plt.xlabel('Iteration')\n",
    "plt.ylabel('Loss')\n",
    "plt.show()"
   ]
  },
  {
   "cell_type": "code",
   "execution_count": 10,
   "id": "7eeec2db",
   "metadata": {},
   "outputs": [
    {
     "data": {
      "image/png": "[encoded data removed]",
      "text/plain": [
       "<Figure size 576x576 with 1 Axes>"
      ]
     },
     "metadata": {
      "needs_background": "light"
     },
     "output_type": "display_data"
    }
   ],
   "source": [
    "with torch.no_grad():\n",
    "    samples = f_U_model.sample((10000,))\n",
    "\n",
    "# Plot the samples from the flow\n",
    "plt.figure(figsize=(8,8))\n",
    "plt.scatter(samples[:,0].cpu().numpy(), samples[:,1].cpu().numpy(), alpha=0.5, color='red')\n",
    "plt.title('Samples from Normalizing Flow')\n",
    "plt.xlabel('x')\n",
    "plt.ylabel('y')\n",
    "plt.show()"
   ]
  },
  {
   "cell_type": "code",
   "execution_count": 22,
   "id": "0fd9a331",
   "metadata": {},
   "outputs": [
    {
     "data": {
      "text/plain": [
       "<matplotlib.collections.PathCollection at 0x7f69df1b67a0>"
      ]
     },
     "execution_count": 22,
     "metadata": {},
     "output_type": "execute_result"
    },
    {
     "data": {
      "image/png": "[encoded data removed]",
      "text/plain": [
       "<Figure size 576x576 with 1 Axes>"
      ]
     },
     "metadata": {
      "needs_background": "light"
     },
     "output_type": "display_data"
    }
   ],
   "source": [
    "T = samples\n",
    "T_max = torch.max(samples,axis=1,keepdim=True)[0]\n",
    "T1 = T-T_max\n",
    "E = torch.empty(n_samples)\n",
    "E = E.exponential_(1.0).unsqueeze(1)\n",
    "Pred = E + T1\n",
    "plt.figure(figsize=(8,8))\n",
    "plt.scatter(Pred[:,0].numpy(), Pred[:,1].numpy(), alpha=0.5, color='red')"
   ]
  },
  {
   "cell_type": "code",
   "execution_count": 8,
   "id": "f7aad4f9",
   "metadata": {},
   "outputs": [
    {
     "name": "stdout",
     "output_type": "stream",
     "text": [
      "tensor([[ 1,  2],\n",
      "        [-3,  4]])\n",
      "tensor([[[ 1,  2],\n",
      "         [-3,  4]],\n",
      "\n",
      "        [[ 1,  2],\n",
      "         [-3,  4]],\n",
      "\n",
      "        [[ 1,  2],\n",
      "         [-3,  4]],\n",
      "\n",
      "        [[ 1,  2],\n",
      "         [-3,  4]],\n",
      "\n",
      "        [[ 1,  2],\n",
      "         [-3,  4]]])\n"
     ]
    }
   ],
   "source": [
    "batch_size = 2\n",
    "idx = np.random.choice(data.shape[0], batch_size, replace=False)\n",
    "num_integration_points = 5\n",
    "batch_x = data[idx]  # Shape (batch_size, dim)\n",
    "batch_x = torch.tensor([[1,2],[-3,4]])\n",
    "print(batch_x)\n",
    "# Expand batch_x to match s_values\n",
    "x_expanded = batch_x.unsqueeze(0)  # Shape (1, effective_batch_size, dim)\n",
    "\n",
    "x_expanded = x_expanded.expand(num_integration_points, -1, -1)  # Shape (num_points, effective_batch_size, dim)\n",
    "print(x_expanded)"
   ]
  },
  {
   "cell_type": "code",
   "execution_count": 9,
   "id": "28c7a416",
   "metadata": {},
   "outputs": [
    {
     "name": "stdout",
     "output_type": "stream",
     "text": [
      "tensor([[[-10.]],\n",
      "\n",
      "        [[ -5.]],\n",
      "\n",
      "        [[  0.]],\n",
      "\n",
      "        [[  5.]],\n",
      "\n",
      "        [[ 10.]]])\n",
      "tensor([[[-10.],\n",
      "         [-10.]],\n",
      "\n",
      "        [[ -5.],\n",
      "         [ -5.]],\n",
      "\n",
      "        [[  0.],\n",
      "         [  0.]],\n",
      "\n",
      "        [[  5.],\n",
      "         [  5.]],\n",
      "\n",
      "        [[ 10.],\n",
      "         [ 10.]]])\n"
     ]
    }
   ],
   "source": [
    "# Expand s_values to match batch size and dimension\n",
    "s_values = torch.linspace(s_min, s_max, num_integration_points).reshape(-1, 1, 1)  # Shape (num_points, 1, 1)\n",
    "s_expanded = s_values.to(batch_x.device)  # Shape (num_points, 1, 1)\n",
    "print(s_expanded)\n",
    "s_expanded = s_expanded.expand(-1, batch_size, 1)  # Shape (num_points, effective_batch_size, 1)\n",
    "print(s_expanded)"
   ]
  },
  {
   "cell_type": "code",
   "execution_count": 10,
   "id": "0a1d9ccf",
   "metadata": {},
   "outputs": [
    {
     "name": "stdout",
     "output_type": "stream",
     "text": [
      "torch.Size([5, 2, 2])\n",
      "tensor([[[ -9.,  -8.],\n",
      "         [-13.,  -6.]],\n",
      "\n",
      "        [[ -4.,  -3.],\n",
      "         [ -8.,  -1.]],\n",
      "\n",
      "        [[  1.,   2.],\n",
      "         [ -3.,   4.]],\n",
      "\n",
      "        [[  6.,   7.],\n",
      "         [  2.,   9.]],\n",
      "\n",
      "        [[ 11.,  12.],\n",
      "         [  7.,  14.]]])\n",
      "torch.Size([10, 2])\n",
      "tensor([[ -9.,  -8.],\n",
      "        [-13.,  -6.],\n",
      "        [ -4.,  -3.],\n",
      "        [ -8.,  -1.],\n",
      "        [  1.,   2.],\n",
      "        [ -3.,   4.],\n",
      "        [  6.,   7.],\n",
      "        [  2.,   9.],\n",
      "        [ 11.,  12.],\n",
      "        [  7.,  14.]])\n"
     ]
    }
   ],
   "source": [
    "\n",
    "# Compute x + s for all s_values\n",
    "x_plus_s = x_expanded + s_expanded  # Broadcasting over the last dimension\n",
    "print(x_plus_s.shape)\n",
    "print(x_plus_s)\n",
    "# x_plus_s shape: (num_points, effective_batch_size, dim)\n",
    "x_plus_s = x_plus_s.reshape(-1, dim)  # Flatten to (num_points * effective_batch_size, dim)\n",
    "print(x_plus_s.shape)\n",
    "print(x_plus_s)"
   ]
  },
  {
   "cell_type": "code",
   "execution_count": 11,
   "id": "eea4edc6",
   "metadata": {},
   "outputs": [
    {
     "data": {
      "text/plain": [
       "tensor([ -52.0577,  -58.9335,  -12.2347,  -27.1714,   -6.0811,  -17.7032,\n",
       "         -63.2901,  -73.8858, -187.1102, -191.7266], grad_fn=<AddBackward0>)"
      ]
     },
     "execution_count": 11,
     "metadata": {},
     "output_type": "execute_result"
    }
   ],
   "source": [
    "log_f_U = f_U_model.log_prob(x_plus_s)\n",
    "log_f_U"
   ]
  },
  {
   "cell_type": "code",
   "execution_count": 12,
   "id": "f3f934fe",
   "metadata": {},
   "outputs": [
    {
     "data": {
      "text/plain": [
       "tensor([[ -52.0577,  -58.9335],\n",
       "        [ -12.2347,  -27.1714],\n",
       "        [  -6.0811,  -17.7032],\n",
       "        [ -63.2901,  -73.8858],\n",
       "        [-187.1102, -191.7266]], grad_fn=<ViewBackward0>)"
      ]
     },
     "execution_count": 12,
     "metadata": {},
     "output_type": "execute_result"
    }
   ],
   "source": [
    "f_U_x_s = log_f_U.reshape(num_integration_points, batch_size)  # Shape (num_points, effective_batch_size)\n",
    "f_U_x_s"
   ]
  },
  {
   "cell_type": "code",
   "execution_count": 13,
   "id": "befbc46f",
   "metadata": {},
   "outputs": [
    {
     "data": {
      "text/plain": [
       "torch.Size([5, 1])"
      ]
     },
     "execution_count": 13,
     "metadata": {},
     "output_type": "execute_result"
    }
   ],
   "source": [
    "s_values.reshape(num_integration_points,1).shape"
   ]
  },
  {
   "cell_type": "code",
   "execution_count": 14,
   "id": "2ce1daba",
   "metadata": {},
   "outputs": [
    {
     "name": "stdout",
     "output_type": "stream",
     "text": [
      "torch.Size([5, 2])\n"
     ]
    },
    {
     "data": {
      "text/plain": [
       "tensor([[ -62.0577,  -68.9335],\n",
       "        [ -17.2347,  -32.1714],\n",
       "        [  -6.0811,  -17.7032],\n",
       "        [ -58.2901,  -68.8858],\n",
       "        [-177.1102, -181.7266]], grad_fn=<AddBackward0>)"
      ]
     },
     "execution_count": 14,
     "metadata": {},
     "output_type": "execute_result"
    }
   ],
   "source": [
    "log_integrand = log_f_U.reshape(num_integration_points, batch_size) + s_values.reshape(num_integration_points,1)\n",
    "print(log_integrand.shape)\n",
    "log_integrand"
   ]
  },
  {
   "cell_type": "code",
   "execution_count": 15,
   "id": "f400aad7",
   "metadata": {},
   "outputs": [
    {
     "name": "stdout",
     "output_type": "stream",
     "text": [
      "torch.Size([1, 2])\n",
      "tensor([[ -6.0811, -17.7032]], grad_fn=<MaxBackward0>)\n",
      "torch.Size([5, 2])\n",
      "tensor([[4.8941e-25, 5.6359e-23],\n",
      "        [1.4324e-05, 5.2064e-07],\n",
      "        [1.0000e+00, 1.0000e+00],\n",
      "        [2.1179e-23, 5.9110e-23],\n",
      "        [0.0000e+00, 0.0000e+00]], grad_fn=<ExpBackward0>)\n"
     ]
    }
   ],
   "source": [
    "max_vals, _ = torch.max(log_integrand, dim=0, keepdim=True)  # shape (1, batch_size)\n",
    "print(max_vals.shape)\n",
    "print(max_vals)\n",
    "stable_exp = torch.exp(log_integrand - max_vals)    \n",
    "print(stable_exp.shape)\n",
    "print(stable_exp)"
   ]
  },
  {
   "cell_type": "code",
   "execution_count": 18,
   "id": "a38df5a4",
   "metadata": {},
   "outputs": [
    {
     "name": "stdout",
     "output_type": "stream",
     "text": [
      "torch.Size([2])\n",
      "tensor([5.0001, 5.0000], grad_fn=<MulBackward1>)\n"
     ]
    }
   ],
   "source": [
    "           # shape (num_points, batch_size)\n",
    "delta_s = (s_max - s_min) / (num_integration_points - 1)\n",
    "sum_exp = torch.trapz(stable_exp, dx=delta_s, dim=0)         # shape (batch_size,)\n",
    "\n",
    "print(sum_exp.shape)\n",
    "print(sum_exp)"
   ]
  },
  {
   "cell_type": "code",
   "execution_count": 82,
   "id": "86ae458c",
   "metadata": {},
   "outputs": [
    {
     "data": {
      "text/plain": [
       "5.0"
      ]
     },
     "execution_count": 82,
     "metadata": {},
     "output_type": "execute_result"
    }
   ],
   "source": [
    "(s_max - s_min) / (num_integration_points - 1)"
   ]
  },
  {
   "cell_type": "code",
   "execution_count": 90,
   "id": "e7ea6248",
   "metadata": {},
   "outputs": [
    {
     "data": {
      "text/plain": [
       "tensor([-8.9474, -9.2353], grad_fn=<SqueezeBackward1>)"
      ]
     },
     "execution_count": 90,
     "metadata": {},
     "output_type": "execute_result"
    }
   ],
   "source": [
    "max_vals.squeeze(0)"
   ]
  },
  {
   "cell_type": "code",
   "execution_count": 17,
   "id": "2f70cc77",
   "metadata": {},
   "outputs": [
    {
     "name": "stdout",
     "output_type": "stream",
     "text": [
      "torch.Size([2])\n",
      "tensor([ -4.4717, -16.0938], grad_fn=<AddBackward0>)\n"
     ]
    }
   ],
   "source": [
    "# 2. Now put the max_vals back in:\n",
    "log_integral = max_vals.squeeze(0) + torch.log(sum_exp + 1e-40)  # shape (batch_size,)\n",
    "print(log_integral.shape)\n",
    "print(log_integral)"
   ]
  },
  {
   "cell_type": "code",
   "execution_count": 14,
   "id": "0d10f4aa",
   "metadata": {},
   "outputs": [],
   "source": [
    "?torch.optim.lr_scheduler.CosineAnnealingLR"
   ]
  }
 ],
 "metadata": {
  "kernelspec": {
   "display_name": "Python 3 (ipykernel)",
   "language": "python",
   "name": "python3"
  },
  "language_info": {
   "codemirror_mode": {
    "name": "ipython",
    "version": 3
   },
   "file_extension": ".py",
   "mimetype": "text/x-python",
   "name": "python",
   "nbconvert_exporter": "python",
   "pygments_lexer": "ipython3",
   "version": "3.10.12"
  }
 },
 "nbformat": 4,
 "nbformat_minor": 5
}
